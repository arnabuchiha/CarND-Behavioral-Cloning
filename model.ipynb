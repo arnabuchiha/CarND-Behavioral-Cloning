{
 "cells": [
  {
   "cell_type": "code",
   "execution_count": 1,
   "metadata": {},
   "outputs": [],
   "source": [
    "import os\n",
    "import csv\n",
    "\n",
    "samples=[]\n",
    "with open('./data/driving_log.csv') as csvfile:\n",
    "    reader=csv.reader(csvfile)\n",
    "    for line in reader:\n",
    "        samples.append(line)"
   ]
  },
  {
   "cell_type": "code",
   "execution_count": 2,
   "metadata": {},
   "outputs": [],
   "source": [
    "from sklearn.model_selection import train_test_split\n",
    "train_samples,validation_samples=train_test_split(samples,test_size=0.2)"
   ]
  },
  {
   "cell_type": "code",
   "execution_count": 3,
   "metadata": {},
   "outputs": [],
   "source": [
    "import cv2\n",
    "import numpy as np\n",
    "import sklearn\n",
    "\n",
    "def generator(samples,batch_size=32):\n",
    "    num_samples=len(samples)\n",
    "    while 1:\n",
    "#         shuffle(samples)\n",
    "        for offset in range(0,num_samples,batch_size):\n",
    "            batch_samples=samples[offset:offset+batch_size]\n",
    "            \n",
    "            images=[]\n",
    "            angles=[]\n",
    "            for batch_sample in batch_samples:\n",
    "                name=batch_sample[0].split('/')[-1]\n",
    "                center_image=cv2.imread(name)\n",
    "                center_angle=float(batch_sample[3])\n",
    "                images.append(center_image)\n",
    "                angles.append(center_angle)\n",
    "            \n",
    "            X_train=np.array(images)\n",
    "            y_train=np.array(angles)\n",
    "            yield sklearn.utils.shuffle(X_train,y_train)\n",
    "            "
   ]
  },
  {
   "cell_type": "code",
   "execution_count": 4,
   "metadata": {},
   "outputs": [],
   "source": [
    "train_generator=generator(train_samples,batch_size=32)\n",
    "validation_generator=generator(validation_samples,batch_size=32)"
   ]
  },
  {
   "cell_type": "code",
   "execution_count": 8,
   "metadata": {},
   "outputs": [],
   "source": [
    "from keras.models import Sequential\n",
    "from keras.layers import Dense,Conv2D,Flatten,Cropping2D,BatchNormalization,Activation,Dropout,MaxPooling2D,Lambda\n",
    "\n",
    "from keras.optimizers import Adam\n",
    "from keras.regularizers import l2\n",
    "from keras.callbacks import EarlyStopping, ModelCheckpoint"
   ]
  },
  {
   "cell_type": "code",
   "execution_count": 10,
   "metadata": {},
   "outputs": [
    {
     "name": "stdout",
     "output_type": "stream",
     "text": [
      "WARNING:tensorflow:From c:\\programdata\\anaconda3\\lib\\site-packages\\keras\\backend\\tensorflow_backend.py:1255: calling reduce_prod (from tensorflow.python.ops.math_ops) with keep_dims is deprecated and will be removed in a future version.\n",
      "Instructions for updating:\n",
      "keep_dims is deprecated, use keepdims instead\n",
      "_________________________________________________________________\n",
      "Layer (type)                 Output Shape              Param #   \n",
      "=================================================================\n",
      "lambda_1 (Lambda)            (None, 160, 320, 3)       0         \n",
      "_________________________________________________________________\n",
      "cropping2d_1 (Cropping2D)    (None, 65, 320, 3)        0         \n",
      "_________________________________________________________________\n",
      "conv2d_1 (Conv2D)            (None, 65, 320, 64)       4864      \n",
      "_________________________________________________________________\n",
      "activation_1 (Activation)    (None, 65, 320, 64)       0         \n",
      "_________________________________________________________________\n",
      "batch_normalization_1 (Batch (None, 65, 320, 64)       256       \n",
      "_________________________________________________________________\n",
      "dropout_1 (Dropout)          (None, 65, 320, 64)       0         \n",
      "_________________________________________________________________\n",
      "max_pooling2d_1 (MaxPooling2 (None, 21, 106, 64)       0         \n",
      "_________________________________________________________________\n",
      "conv2d_2 (Conv2D)            (None, 21, 106, 128)      204928    \n",
      "_________________________________________________________________\n",
      "activation_2 (Activation)    (None, 21, 106, 128)      0         \n",
      "_________________________________________________________________\n",
      "max_pooling2d_2 (MaxPooling2 (None, 7, 35, 128)        0         \n",
      "_________________________________________________________________\n",
      "conv2d_3 (Conv2D)            (None, 7, 35, 256)        819456    \n",
      "_________________________________________________________________\n",
      "activation_3 (Activation)    (None, 7, 35, 256)        0         \n",
      "_________________________________________________________________\n",
      "dropout_2 (Dropout)          (None, 7, 35, 256)        0         \n",
      "_________________________________________________________________\n",
      "max_pooling2d_3 (MaxPooling2 (None, 2, 11, 256)        0         \n",
      "_________________________________________________________________\n",
      "flatten_1 (Flatten)          (None, 5632)              0         \n",
      "_________________________________________________________________\n",
      "dense_1 (Dense)              (None, 512)               2884096   \n",
      "_________________________________________________________________\n",
      "activation_4 (Activation)    (None, 512)               0         \n",
      "_________________________________________________________________\n",
      "dense_2 (Dense)              (None, 256)               131328    \n",
      "_________________________________________________________________\n",
      "activation_5 (Activation)    (None, 256)               0         \n",
      "_________________________________________________________________\n",
      "dense_3 (Dense)              (None, 1)                 257       \n",
      "=================================================================\n",
      "Total params: 4,045,185\n",
      "Trainable params: 4,045,057\n",
      "Non-trainable params: 128\n",
      "_________________________________________________________________\n"
     ]
    }
   ],
   "source": [
    "ch, row, col = 3, 160, 320\n",
    "model=Sequential()\n",
    "model.add(Lambda(lambda x: x/255.0 - 0.5,\n",
    "        input_shape=(row, col,ch)))\n",
    "\n",
    "model.add(Cropping2D(cropping=((70,25),(0,0))))\n",
    "\n",
    "model.add(Conv2D(64,(5,5),padding='same',kernel_regularizer=None))\n",
    "model.add(Activation('elu'))\n",
    "model.add(BatchNormalization())\n",
    "model.add(Dropout(0.5))\n",
    "model.add(MaxPooling2D(pool_size=(3,3)))\n",
    "\n",
    "model.add(Conv2D(128,(5,5),padding='same',kernel_regularizer=None))\n",
    "model.add(Activation('elu'))\n",
    "model.add(MaxPooling2D(pool_size=(3,3)))\n",
    "\n",
    "model.add(Conv2D(256,(5,5),padding='same',kernel_regularizer=None))\n",
    "model.add(Activation('elu'))\n",
    "model.add(Dropout(0.5))\n",
    "model.add(MaxPooling2D(pool_size=(3,3)))\n",
    "model.add(Flatten())\n",
    "\n",
    "model.add(Dense(512,kernel_regularizer=None))\n",
    "model.add(Activation('elu'))\n",
    "\n",
    "model.add(Dense(256,kernel_regularizer=None))\n",
    "model.add(Activation('elu'))\n",
    "\n",
    "model.add(Dense(1))\n",
    "model.summary()"
   ]
  },
  {
   "cell_type": "code",
   "execution_count": null,
   "metadata": {},
   "outputs": [
    {
     "name": "stdout",
     "output_type": "stream",
     "text": [
      "WARNING:tensorflow:From c:\\programdata\\anaconda3\\lib\\site-packages\\keras\\backend\\tensorflow_backend.py:1340: calling reduce_mean (from tensorflow.python.ops.math_ops) with keep_dims is deprecated and will be removed in a future version.\n",
      "Instructions for updating:\n",
      "keep_dims is deprecated, use keepdims instead\n"
     ]
    },
    {
     "name": "stderr",
     "output_type": "stream",
     "text": [
      "c:\\programdata\\anaconda3\\lib\\site-packages\\ipykernel_launcher.py:6: UserWarning: The semantics of the Keras 2 argument `steps_per_epoch` is not the same as the Keras 1 argument `samples_per_epoch`. `steps_per_epoch` is the number of batches to draw from the generator at each epoch. Basically steps_per_epoch = samples_per_epoch/batch_size. Similarly `nb_val_samples`->`validation_steps` and `val_samples`->`steps` arguments have changed. Update your method calls accordingly.\n",
      "  \n",
      "c:\\programdata\\anaconda3\\lib\\site-packages\\ipykernel_launcher.py:6: UserWarning: Update your `fit_generator` call to the Keras 2 API: `fit_generator(<generator..., steps_per_epoch=2036, validation_data=<generator..., validation_steps=510, callbacks=[<keras.ca..., verbose=1, epochs=5)`\n",
      "  \n"
     ]
    },
    {
     "name": "stdout",
     "output_type": "stream",
     "text": [
      "Epoch 1/5\n",
      "2035/2036 [============================>.] - ETA: 0s - loss: 4.5296Epoch 00001: val_loss improved from inf to 45.75106, saving model to model-45.75106.h5\n",
      "2036/2036 [==============================] - 630s 310ms/step - loss: 4.5274 - val_loss: 45.7511\n",
      "Epoch 2/5\n",
      " 683/2036 [=========>....................] - ETA: 6:06 - loss: 0.0162"
     ]
    }
   ],
   "source": [
    "early_stopping = EarlyStopping(monitor='val_loss', min_delta=0.0, patience=2)\n",
    "checkpointer = ModelCheckpoint(filepath='model-{val_loss:.5f}.h5', verbose=1, save_best_only=True)\n",
    "model.compile(loss='mse', optimizer='adam')\n",
    "model.fit_generator(train_generator, steps_per_epoch=len(train_samples),\n",
    "                    validation_data=validation_generator,\n",
    "            validation_steps=len(validation_samples), nb_epoch=5,callbacks=[early_stopping,checkpointer],verbose=1)\n",
    "model.save('model.h5')"
   ]
  },
  {
   "cell_type": "code",
   "execution_count": null,
   "metadata": {},
   "outputs": [],
   "source": []
  },
  {
   "cell_type": "code",
   "execution_count": null,
   "metadata": {},
   "outputs": [],
   "source": []
  }
 ],
 "metadata": {
  "kernelspec": {
   "display_name": "Python 3",
   "language": "python",
   "name": "python3"
  },
  "language_info": {
   "codemirror_mode": {
    "name": "ipython",
    "version": 3
   },
   "file_extension": ".py",
   "mimetype": "text/x-python",
   "name": "python",
   "nbconvert_exporter": "python",
   "pygments_lexer": "ipython3",
   "version": "3.6.3"
  }
 },
 "nbformat": 4,
 "nbformat_minor": 2
}
