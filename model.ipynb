{
 "cells": [
  {
   "cell_type": "code",
   "execution_count": 1,
   "metadata": {},
   "outputs": [],
   "source": [
    "import os\n",
    "import csv\n",
    "from matplotlib import pyplot as plt\n",
    "\n",
    "samples=[]\n",
    "with open('./data/driving_log.csv') as csvfile:\n",
    "    reader=csv.reader(csvfile)\n",
    "    for line in reader:\n",
    "        samples.append(line)"
   ]
  },
  {
   "cell_type": "code",
   "execution_count": 2,
   "metadata": {},
   "outputs": [],
   "source": [
    "from sklearn.model_selection import train_test_split\n",
    "train_samples,validation_samples=train_test_split(samples,test_size=0.2)"
   ]
  },
  {
   "cell_type": "code",
   "execution_count": null,
   "metadata": {},
   "outputs": [],
   "source": [
    "import cv2\n",
    "import numpy as np\n",
    "import sklearn\n",
    "\n",
    "def generator(samples,batch_size=32):\n",
    "    num_samples=len(samples)\n",
    "    correction=0.2\n",
    "    while 1:\n",
    "#         shuffle(samples)\n",
    "        for offset in range(0,num_samples,batch_size):\n",
    "            batch_samples=samples[offset:offset+batch_size]\n",
    "            \n",
    "            images=[]\n",
    "            angles=[]\n",
    "            for batch_sample in batch_samples:\n",
    "                \n",
    "                name=batch_sample[0].split('/')[-1]\n",
    "                left_name=batch_sample[1].split('/')[-1]\n",
    "                right_name=batch_sample[2].split('/')[-1]\n",
    "                print(left_name)\n",
    "                left_image=cv2.imread(left_name)\n",
    "                right_image=cv2.imread(right_name)\n",
    "                \n",
    "                center_image=cv2.imread(name)\n",
    "                center_angle=float(batch_sample[3])\n",
    "                \n",
    "                left_angle=center_angle+correction\n",
    "                right_angle=center_angle-correction\n",
    "                \n",
    "                image_flipped = np.fliplr(center_image)\n",
    "                measurement_flipped = -center_angle\n",
    "                \n",
    "                images.append(center_image)\n",
    "                angles.append(center_angle)\n",
    "                \n",
    "                images.append(image_flipped)\n",
    "                angles.append(measurement_flipped)\n",
    "                \n",
    "                \n",
    "                images.append(left_image)\n",
    "                angles.append(left_angle)\n",
    "                \n",
    "                images.append(right_image)\n",
    "                angles.append(right_angle)\n",
    "            \n",
    "            X_train=np.array(images)\n",
    "            y_train=np.array(angles)\n",
    "            yield sklearn.utils.shuffle(X_train,y_train)\n",
    "            "
   ]
  },
  {
   "cell_type": "code",
   "execution_count": null,
   "metadata": {},
   "outputs": [],
   "source": [
    "train_generator=generator(train_samples,batch_size=32)\n",
    "validation_generator=generator(validation_samples,batch_size=32)"
   ]
  },
  {
   "cell_type": "code",
   "execution_count": 5,
   "metadata": {},
   "outputs": [
    {
     "name": "stderr",
     "output_type": "stream",
     "text": [
      "c:\\programdata\\anaconda3\\lib\\site-packages\\h5py\\__init__.py:34: FutureWarning: Conversion of the second argument of issubdtype from `float` to `np.floating` is deprecated. In future, it will be treated as `np.float64 == np.dtype(float).type`.\n",
      "  from ._conv import register_converters as _register_converters\n",
      "Using TensorFlow backend.\n"
     ]
    }
   ],
   "source": [
    "from keras.models import Sequential\n",
    "from keras.layers import Dense,Conv2D,Flatten,Cropping2D,BatchNormalization,Activation,Dropout,MaxPooling2D,Lambda\n",
    "from keras.optimizers import Adam\n",
    "from keras.regularizers import l2\n",
    "from keras.callbacks import EarlyStopping, ModelCheckpoint"
   ]
  },
  {
   "cell_type": "code",
   "execution_count": 6,
   "metadata": {},
   "outputs": [
    {
     "name": "stderr",
     "output_type": "stream",
     "text": [
      "c:\\programdata\\anaconda3\\lib\\site-packages\\ipykernel_launcher.py:25: UserWarning: Update your `Conv2D` call to the Keras 2 API: `Conv2D(24, (5, 5), activation=\"elu\", strides=(2, 2))`\n",
      "c:\\programdata\\anaconda3\\lib\\site-packages\\ipykernel_launcher.py:26: UserWarning: Update your `Conv2D` call to the Keras 2 API: `Conv2D(36, (5, 5), activation=\"elu\", strides=(2, 2))`\n",
      "c:\\programdata\\anaconda3\\lib\\site-packages\\ipykernel_launcher.py:27: UserWarning: Update your `Conv2D` call to the Keras 2 API: `Conv2D(48, (5, 5), activation=\"elu\", strides=(2, 2))`\n",
      "c:\\programdata\\anaconda3\\lib\\site-packages\\ipykernel_launcher.py:28: UserWarning: Update your `Conv2D` call to the Keras 2 API: `Conv2D(64, (3, 3), activation=\"elu\")`\n",
      "c:\\programdata\\anaconda3\\lib\\site-packages\\ipykernel_launcher.py:29: UserWarning: Update your `Conv2D` call to the Keras 2 API: `Conv2D(64, (3, 3), activation=\"elu\")`\n"
     ]
    },
    {
     "name": "stdout",
     "output_type": "stream",
     "text": [
      "WARNING:tensorflow:From c:\\programdata\\anaconda3\\lib\\site-packages\\keras\\backend\\tensorflow_backend.py:1255: calling reduce_prod (from tensorflow.python.ops.math_ops) with keep_dims is deprecated and will be removed in a future version.\n",
      "Instructions for updating:\n",
      "keep_dims is deprecated, use keepdims instead\n",
      "_________________________________________________________________\n",
      "Layer (type)                 Output Shape              Param #   \n",
      "=================================================================\n",
      "lambda_1 (Lambda)            (None, 160, 320, 3)       0         \n",
      "_________________________________________________________________\n",
      "cropping2d_1 (Cropping2D)    (None, 62, 320, 3)        0         \n",
      "_________________________________________________________________\n",
      "conv2d_1 (Conv2D)            (None, 29, 158, 24)       1824      \n",
      "_________________________________________________________________\n",
      "conv2d_2 (Conv2D)            (None, 13, 77, 36)        21636     \n",
      "_________________________________________________________________\n",
      "conv2d_3 (Conv2D)            (None, 5, 37, 48)         43248     \n",
      "_________________________________________________________________\n",
      "conv2d_4 (Conv2D)            (None, 3, 35, 64)         27712     \n",
      "_________________________________________________________________\n",
      "conv2d_5 (Conv2D)            (None, 1, 33, 64)         36928     \n",
      "_________________________________________________________________\n",
      "dropout_1 (Dropout)          (None, 1, 33, 64)         0         \n",
      "_________________________________________________________________\n",
      "flatten_1 (Flatten)          (None, 2112)              0         \n",
      "_________________________________________________________________\n",
      "dense_1 (Dense)              (None, 100)               211300    \n",
      "_________________________________________________________________\n",
      "dense_2 (Dense)              (None, 50)                5050      \n",
      "_________________________________________________________________\n",
      "dense_3 (Dense)              (None, 10)                510       \n",
      "_________________________________________________________________\n",
      "dense_4 (Dense)              (None, 1)                 11        \n",
      "=================================================================\n",
      "Total params: 348,219\n",
      "Trainable params: 348,219\n",
      "Non-trainable params: 0\n",
      "_________________________________________________________________\n"
     ]
    }
   ],
   "source": [
    "ACTIVATION='relu'\n",
    "model = Sequential()\n",
    "model.add(Lambda(lambda x: (x / 127.5) - 1., input_shape = (160, 320, 3)))\n",
    "model.add(Cropping2D(cropping=((74,24), (0,0))))\n",
    "model.add(Conv2D(24,5,5,subsample=(2,2),activation=ACTIVATION))\n",
    "model.add(Conv2D(36,5,5,subsample=(2,2),activation=ACTIVATION))\n",
    "model.add(Conv2D(48,5,5,subsample=(2,2),activation=ACTIVATION))\n",
    "model.add(Conv2D(64,3,3,activation=ACTIVATION))\n",
    "model.add(Conv2D(64,3,3,activation=ACTIVATION))\n",
    "model.add(Flatten())\n",
    "model.add(Dropout(.5))\n",
    "model.add(Dense(1164))\n",
    "model.add(Activation(ACTIVATION))\n",
    "model.add(Dense(100))\n",
    "model.add(Activation(ACTIVATION))\n",
    "model.add(Dense(50))\n",
    "model.add(Activation(ACTIVATION))\n",
    "model.add(Dense(10))\n",
    "model.add(Activation(ACTIVATION))\n",
    "model.add(Dense(1))\n",
    "model.summary()\n",
    "# model=Sequential()\n",
    "# model.add(Lambda(lambda x: x/127.5-1.0, input_shape=(160,320,3)))\n",
    "# model.add(Cropping2D(cropping=((74,24),(0,0))))\n",
    "# model.add(Conv2D(24, 5, 5, activation='elu', subsample=(2, 2)))\n",
    "# model.add(Conv2D(36, 5, 5, activation='elu', subsample=(2, 2)))\n",
    "# model.add(Conv2D(48, 5, 5, activation='elu', subsample=(2, 2)))\n",
    "# model.add(Conv2D(64, 3, 3, activation='elu'))\n",
    "# model.add(Conv2D(64, 3, 3, activation='elu'))\n",
    "# model.add(Dropout(0.5))\n",
    "# model.add(Flatten())\n",
    "# model.add(Dense(100, activation='elu'))\n",
    "# model.add(Dense(50, activation='elu'))\n",
    "# model.add(Dense(10, activation='elu'))\n",
    "# model.add(Dense(1))\n",
    "# model.summary()"
   ]
  },
  {
   "cell_type": "code",
   "execution_count": null,
   "metadata": {},
   "outputs": [
    {
     "name": "stdout",
     "output_type": "stream",
     "text": [
      "WARNING:tensorflow:From c:\\programdata\\anaconda3\\lib\\site-packages\\keras\\backend\\tensorflow_backend.py:1340: calling reduce_mean (from tensorflow.python.ops.math_ops) with keep_dims is deprecated and will be removed in a future version.\n",
      "Instructions for updating:\n",
      "keep_dims is deprecated, use keepdims instead\n"
     ]
    },
    {
     "name": "stderr",
     "output_type": "stream",
     "text": [
      "c:\\programdata\\anaconda3\\lib\\site-packages\\ipykernel_launcher.py:6: UserWarning: The semantics of the Keras 2 argument `steps_per_epoch` is not the same as the Keras 1 argument `samples_per_epoch`. `steps_per_epoch` is the number of batches to draw from the generator at each epoch. Basically steps_per_epoch = samples_per_epoch/batch_size. Similarly `nb_val_samples`->`validation_steps` and `val_samples`->`steps` arguments have changed. Update your method calls accordingly.\n",
      "  \n",
      "c:\\programdata\\anaconda3\\lib\\site-packages\\ipykernel_launcher.py:6: UserWarning: Update your `fit_generator` call to the Keras 2 API: `fit_generator(<generator..., steps_per_epoch=6389, validation_data=<generator..., validation_steps=1598, callbacks=[<keras.ca..., verbose=1, epochs=5)`\n",
      "  \n"
     ]
    },
    {
     "name": "stdout",
     "output_type": "stream",
     "text": [
      "Epoch 1/5\n",
      "6388/6389 [============================>.] - ETA: 0s - loss: 0.0179Epoch 00001: val_loss improved from inf to 0.02321, saving model to model-0.02321.h5\n",
      "6389/6389 [==============================] - 1592s 249ms/step - loss: 0.0179 - val_loss: 0.0232\n",
      "Epoch 2/5\n",
      "6388/6389 [============================>.] - ETA: 0s - loss: 0.0086Epoch 00002: val_loss improved from 0.02321 to 0.02192, saving model to model-0.02192.h5\n",
      "6389/6389 [==============================] - 1159s 181ms/step - loss: 0.0086 - val_loss: 0.0219\n",
      "Epoch 3/5\n",
      " 858/6389 [===>..........................] - ETA: 13:10 - loss: 0.0077"
     ]
    }
   ],
   "source": [
    "early_stopping = EarlyStopping(monitor='val_loss', min_delta=0.0, patience=2)\n",
    "checkpointer = ModelCheckpoint(filepath='model-{val_loss:.5f}.h5', verbose=1, save_best_only=True)\n",
    "model.compile(loss='mse', optimizer='adam')\n",
    "fit_loss = model.fit_generator(train_generator, steps_per_epoch=len(train_samples),\n",
    "                    validation_data=validation_generator,\n",
    "            validation_steps=len(validation_samples), nb_epoch=5,callbacks=[early_stopping,checkpointer],verbose=1)\n"
   ]
  },
  {
   "cell_type": "code",
   "execution_count": null,
   "metadata": {},
   "outputs": [],
   "source": [
    "plt.plot(fit_loss.history['loss'])\n",
    "plt.plot(fit_loss.history['val_loss'])\n",
    "plt.title('Mean Squared Error Loss')\n",
    "plt.ylabel('mean squared error')\n",
    "plt.xlabel('epoch')\n",
    "plt.legend(['training set', 'validation set'], loc='upper right')\n",
    "plt.show()"
   ]
  },
  {
   "cell_type": "code",
   "execution_count": null,
   "metadata": {},
   "outputs": [],
   "source": [
    "model.save('model.h5')"
   ]
  },
  {
   "cell_type": "code",
   "execution_count": null,
   "metadata": {},
   "outputs": [],
   "source": []
  }
 ],
 "metadata": {
  "kernelspec": {
   "display_name": "Python 3",
   "language": "python",
   "name": "python3"
  },
  "language_info": {
   "codemirror_mode": {
    "name": "ipython",
    "version": 3
   },
   "file_extension": ".py",
   "mimetype": "text/x-python",
   "name": "python",
   "nbconvert_exporter": "python",
   "pygments_lexer": "ipython3",
   "version": "3.6.3"
  }
 },
 "nbformat": 4,
 "nbformat_minor": 2
}
