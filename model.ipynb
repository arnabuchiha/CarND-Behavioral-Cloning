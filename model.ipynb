{
 "cells": [
  {
   "cell_type": "code",
   "execution_count": 47,
   "metadata": {},
   "outputs": [
    {
     "data": {
      "text/plain": [
       "['center', 'left', 'right', 'steering', 'throttle', 'brake', 'speed']"
      ]
     },
     "execution_count": 47,
     "metadata": {},
     "output_type": "execute_result"
    }
   ],
   "source": [
    "import os\n",
    "import csv\n",
    "from matplotlib import pyplot as plt\n",
    "\n",
    "samples=[]\n",
    "with open('./data/driving_log.csv') as csvfile:\n",
    "    reader=csv.reader(csvfile)\n",
    "    for line in reader:\n",
    "        samples.append(line)\n",
    "samples.pop(0)"
   ]
  },
  {
   "cell_type": "code",
   "execution_count": 31,
   "metadata": {},
   "outputs": [],
   "source": [
    "from sklearn.model_selection import train_test_split\n",
    "train_samples,validation_samples=train_test_split(samples,test_size=0.2)"
   ]
  },
  {
   "cell_type": "code",
   "execution_count": 38,
   "metadata": {},
   "outputs": [],
   "source": [
    "import cv2\n",
    "import numpy as np\n",
    "import sklearn\n",
    "from scipy.misc import imread"
   ]
  },
  {
   "cell_type": "code",
   "execution_count": null,
   "metadata": {},
   "outputs": [],
   "source": []
  },
  {
   "cell_type": "code",
   "execution_count": 39,
   "metadata": {},
   "outputs": [],
   "source": [
    "def generator(samples,batch_size=32):\n",
    "    num_samples=len(samples)\n",
    "    correction=0.2\n",
    "    while 1:\n",
    "#         shuffle(samples)\n",
    "        for offset in range(0,num_samples,batch_size):\n",
    "            batch_samples=samples[offset:offset+batch_size]\n",
    "            \n",
    "            images=[]\n",
    "            angles=[]\n",
    "            for batch_sample in batch_samples:\n",
    "                name=\"./data/IMG/\"+batch_sample[0].split('/')[-1]\n",
    "                left_name=\"./data/IMG/\"+batch_sample[1].split('/')[-1]\n",
    "                right_name=\"./data/IMG/\"+batch_sample[2].split('/')[-1]\n",
    "                left_image=imread(left_name)\n",
    "                right_image=imread(right_name)\n",
    "                center_image=imread(name)\n",
    "#                 left_image=cv2.cvtColor(left_image,cv2.COLOR_BGR2RGB)\n",
    "#                 right_image=cv2.cvtColor(right_image,cv2.COLOR_BGR2RGB)\n",
    "#                 center_image=cv2.cvtColor(center_image,cv2.COLOR_BGR2RGB)\n",
    "                center_angle=float(batch_sample[3])\n",
    "               \n",
    "                left_angle=center_angle+correction\n",
    "                right_angle=center_angle-correction\n",
    "                \n",
    "                image_flipped = cv2.flip(center_image, 1)\n",
    "                measurement_flipped = -center_angle\n",
    "                \n",
    "                image_flipped_left = cv2.flip(left_image, 1)\n",
    "                measurement_flipped_left = -left_angle\n",
    "                \n",
    "                image_flipped_right = cv2.flip(right_image, 1)\n",
    "                measurement_flipped_right = -right_angle\n",
    "                \n",
    "                images.append(center_image)\n",
    "                angles.append(center_angle)\n",
    "                \n",
    "                images.append(image_flipped)\n",
    "                angles.append(measurement_flipped)\n",
    "                \n",
    "                images.append(image_flipped_left)\n",
    "                angles.append(measurement_flipped_left)\n",
    "                \n",
    "                images.append(image_flipped_right)\n",
    "                angles.append(measurement_flipped_right)                \n",
    "                \n",
    "                images.append(left_image)\n",
    "                angles.append(left_angle)\n",
    "                \n",
    "                images.append(right_image)\n",
    "                angles.append(right_angle)\n",
    "            \n",
    "            X_train=np.array(images)\n",
    "            y_train=np.array(angles)\n",
    "            yield sklearn.utils.shuffle(X_train,y_train)"
   ]
  },
  {
   "cell_type": "code",
   "execution_count": 40,
   "metadata": {},
   "outputs": [],
   "source": [
    "train_generator=generator(train_samples,batch_size=32)\n",
    "validation_generator=generator(validation_samples,batch_size=32)"
   ]
  },
  {
   "cell_type": "code",
   "execution_count": 41,
   "metadata": {},
   "outputs": [],
   "source": [
    "from keras.models import Sequential\n",
    "from keras.layers import Dense,Conv2D,Flatten,Cropping2D,BatchNormalization,Activation,Dropout,MaxPooling2D,Lambda\n",
    "from keras.optimizers import Adam\n",
    "from keras.regularizers import l2\n",
    "from keras.callbacks import EarlyStopping, ModelCheckpoint"
   ]
  },
  {
   "cell_type": "code",
   "execution_count": 42,
   "metadata": {},
   "outputs": [
    {
     "name": "stdout",
     "output_type": "stream",
     "text": [
      "_________________________________________________________________\n",
      "Layer (type)                 Output Shape              Param #   \n",
      "=================================================================\n",
      "lambda_6 (Lambda)            (None, 160, 320, 3)       0         \n",
      "_________________________________________________________________\n",
      "cropping2d_6 (Cropping2D)    (None, 62, 320, 3)        0         \n",
      "_________________________________________________________________\n",
      "conv2d_26 (Conv2D)           (None, 29, 158, 24)       1824      \n",
      "_________________________________________________________________\n",
      "conv2d_27 (Conv2D)           (None, 13, 77, 36)        21636     \n",
      "_________________________________________________________________\n",
      "conv2d_28 (Conv2D)           (None, 5, 37, 48)         43248     \n",
      "_________________________________________________________________\n",
      "conv2d_29 (Conv2D)           (None, 3, 35, 64)         27712     \n",
      "_________________________________________________________________\n",
      "conv2d_30 (Conv2D)           (None, 1, 33, 64)         36928     \n",
      "_________________________________________________________________\n",
      "dropout_6 (Dropout)          (None, 1, 33, 64)         0         \n",
      "_________________________________________________________________\n",
      "flatten_6 (Flatten)          (None, 2112)              0         \n",
      "_________________________________________________________________\n",
      "dense_21 (Dense)             (None, 100)               211300    \n",
      "_________________________________________________________________\n",
      "dense_22 (Dense)             (None, 50)                5050      \n",
      "_________________________________________________________________\n",
      "dense_23 (Dense)             (None, 10)                510       \n",
      "_________________________________________________________________\n",
      "dense_24 (Dense)             (None, 1)                 11        \n",
      "=================================================================\n",
      "Total params: 348,219\n",
      "Trainable params: 348,219\n",
      "Non-trainable params: 0\n",
      "_________________________________________________________________\n"
     ]
    },
    {
     "name": "stderr",
     "output_type": "stream",
     "text": [
      "c:\\programdata\\anaconda3\\lib\\site-packages\\ipykernel_launcher.py:25: UserWarning: Update your `Conv2D` call to the Keras 2 API: `Conv2D(24, (5, 5), activation=\"elu\", strides=(2, 2))`\n",
      "c:\\programdata\\anaconda3\\lib\\site-packages\\ipykernel_launcher.py:26: UserWarning: Update your `Conv2D` call to the Keras 2 API: `Conv2D(36, (5, 5), activation=\"elu\", strides=(2, 2))`\n",
      "c:\\programdata\\anaconda3\\lib\\site-packages\\ipykernel_launcher.py:27: UserWarning: Update your `Conv2D` call to the Keras 2 API: `Conv2D(48, (5, 5), activation=\"elu\", strides=(2, 2))`\n",
      "c:\\programdata\\anaconda3\\lib\\site-packages\\ipykernel_launcher.py:28: UserWarning: Update your `Conv2D` call to the Keras 2 API: `Conv2D(64, (3, 3), activation=\"elu\")`\n",
      "c:\\programdata\\anaconda3\\lib\\site-packages\\ipykernel_launcher.py:29: UserWarning: Update your `Conv2D` call to the Keras 2 API: `Conv2D(64, (3, 3), activation=\"elu\")`\n"
     ]
    }
   ],
   "source": [
    "# ACTIVATION='elu'\n",
    "# model = Sequential()\n",
    "# model.add(Lambda(lambda x: (x / 127.5) - 1., input_shape = (160, 320, 3)))\n",
    "# model.add(Cropping2D(cropping=((74,24), (0,0))))\n",
    "# model.add(Conv2D(24,5,5,subsample=(2,2),activation=ACTIVATION))\n",
    "# model.add(Conv2D(36,5,5,subsample=(2,2),activation=ACTIVATION))\n",
    "# model.add(Conv2D(48,5,5,subsample=(2,2),activation=ACTIVATION))\n",
    "# model.add(Conv2D(64,3,3,activation=ACTIVATION))\n",
    "# model.add(Conv2D(64,3,3,activation=ACTIVATION))\n",
    "# model.add(Flatten())\n",
    "# model.add(Dropout(.5))\n",
    "# model.add(Dense(1164))\n",
    "# model.add(Activation(ACTIVATION))\n",
    "# model.add(Dense(100))\n",
    "# model.add(Activation(ACTIVATION))\n",
    "# model.add(Dense(50))\n",
    "# model.add(Activation(ACTIVATION))\n",
    "# model.add(Dense(10))\n",
    "# model.add(Activation(ACTIVATION))\n",
    "# model.add(Dense(1))\n",
    "# model.summary()\n",
    "model=Sequential()\n",
    "model.add(Lambda(lambda x: x/127.5-1.0, input_shape=(160,320,3)))\n",
    "model.add(Cropping2D(cropping=((74,24),(0,0))))\n",
    "model.add(Conv2D(24, 5, 5, activation='elu', subsample=(2, 2)))\n",
    "model.add(Conv2D(36, 5, 5, activation='elu', subsample=(2, 2)))\n",
    "model.add(Conv2D(48, 5, 5, activation='elu', subsample=(2, 2)))\n",
    "model.add(Conv2D(64, 3, 3, activation='elu'))\n",
    "model.add(Conv2D(64, 3, 3, activation='elu'))\n",
    "model.add(Dropout(0.5))\n",
    "model.add(Flatten())\n",
    "model.add(Dense(100, activation='elu'))\n",
    "model.add(Dense(50, activation='elu'))\n",
    "model.add(Dense(10, activation='elu'))\n",
    "model.add(Dense(1))\n",
    "model.summary()"
   ]
  },
  {
   "cell_type": "code",
   "execution_count": 43,
   "metadata": {},
   "outputs": [
    {
     "name": "stderr",
     "output_type": "stream",
     "text": [
      "c:\\programdata\\anaconda3\\lib\\site-packages\\ipykernel_launcher.py:7: UserWarning: The semantics of the Keras 2 argument `steps_per_epoch` is not the same as the Keras 1 argument `samples_per_epoch`. `steps_per_epoch` is the number of batches to draw from the generator at each epoch. Basically steps_per_epoch = samples_per_epoch/batch_size. Similarly `nb_val_samples`->`validation_steps` and `val_samples`->`steps` arguments have changed. Update your method calls accordingly.\n",
      "  import sys\n",
      "c:\\programdata\\anaconda3\\lib\\site-packages\\ipykernel_launcher.py:7: UserWarning: Update your `fit_generator` call to the Keras 2 API: `fit_generator(<generator..., steps_per_epoch=6429, validation_data=<generator..., validation_steps=1608, callbacks=[<keras.ca..., verbose=1, epochs=10)`\n",
      "  import sys\n"
     ]
    },
    {
     "name": "stdout",
     "output_type": "stream",
     "text": [
      "Epoch 1/10\n",
      " 160/6429 [..............................] - ETA: 3:04:10 - loss: 0.0518"
     ]
    },
    {
     "name": "stderr",
     "output_type": "stream",
     "text": [
      "Exception in thread Thread-10:\n",
      "Traceback (most recent call last):\n",
      "  File \"c:\\programdata\\anaconda3\\lib\\threading.py\", line 916, in _bootstrap_inner\n",
      "    self.run()\n",
      "  File \"c:\\programdata\\anaconda3\\lib\\threading.py\", line 864, in run\n",
      "    self._target(*self._args, **self._kwargs)\n",
      "  File \"c:\\programdata\\anaconda3\\lib\\site-packages\\keras\\utils\\data_utils.py\", line 579, in data_generator_task\n",
      "    generator_output = next(self._generator)\n",
      "  File \"<ipython-input-39-896ca3f5a5f3>\", line 15, in generator\n",
      "    left_image=imread(left_name)\n",
      "  File \"c:\\programdata\\anaconda3\\lib\\site-packages\\scipy\\misc\\pilutil.py\", line 156, in imread\n",
      "    im = Image.open(name)\n",
      "  File \"c:\\programdata\\anaconda3\\lib\\site-packages\\PIL\\Image.py\", line 2580, in open\n",
      "    fp = builtins.open(filename, \"rb\")\n",
      "FileNotFoundError: [Errno 2] No such file or directory: './data/IMG/left'\n",
      "\n"
     ]
    },
    {
     "name": "stdout",
     "output_type": "stream",
     "text": [
      "\b\b\b\b\b\b\b\b\b\b\b\b\b\b\b\b\b\b\b\b\b\b\b\b\b\b\b\b\b\b\b\b\b\b\b\b\b\b\b\b\b\b\b\b\b\b\b\b\b\b\b\b\b\b\b\b\b\b\b\b\b\b\b\b\b\b\b\b\b\b\b\b\r",
      " 161/6429 [..............................] - ETA: 3:04:03 - loss: 0.0516"
     ]
    },
    {
     "ename": "StopIteration",
     "evalue": "",
     "output_type": "error",
     "traceback": [
      "\u001b[1;31m---------------------------------------------------------------------------\u001b[0m",
      "\u001b[1;31mStopIteration\u001b[0m                             Traceback (most recent call last)",
      "\u001b[1;32m<ipython-input-43-65b93ed47ade>\u001b[0m in \u001b[0;36m<module>\u001b[1;34m()\u001b[0m\n\u001b[0;32m      5\u001b[0m                     \u001b[0mvalidation_data\u001b[0m\u001b[1;33m=\u001b[0m\u001b[0mvalidation_generator\u001b[0m\u001b[1;33m,\u001b[0m\u001b[1;33m\u001b[0m\u001b[0m\n\u001b[0;32m      6\u001b[0m                                \u001b[0mvalidation_steps\u001b[0m\u001b[1;33m=\u001b[0m\u001b[0mlen\u001b[0m\u001b[1;33m(\u001b[0m\u001b[0mvalidation_samples\u001b[0m\u001b[1;33m)\u001b[0m\u001b[1;33m,\u001b[0m\u001b[1;33m\u001b[0m\u001b[0m\n\u001b[1;32m----> 7\u001b[1;33m                                nb_epoch=10,callbacks=[early_stopping,checkpointer],verbose=1)\n\u001b[0m",
      "\u001b[1;32mc:\\programdata\\anaconda3\\lib\\site-packages\\keras\\legacy\\interfaces.py\u001b[0m in \u001b[0;36mwrapper\u001b[1;34m(*args, **kwargs)\u001b[0m\n\u001b[0;32m     85\u001b[0m                 warnings.warn('Update your `' + object_name +\n\u001b[0;32m     86\u001b[0m                               '` call to the Keras 2 API: ' + signature, stacklevel=2)\n\u001b[1;32m---> 87\u001b[1;33m             \u001b[1;32mreturn\u001b[0m \u001b[0mfunc\u001b[0m\u001b[1;33m(\u001b[0m\u001b[1;33m*\u001b[0m\u001b[0margs\u001b[0m\u001b[1;33m,\u001b[0m \u001b[1;33m**\u001b[0m\u001b[0mkwargs\u001b[0m\u001b[1;33m)\u001b[0m\u001b[1;33m\u001b[0m\u001b[0m\n\u001b[0m\u001b[0;32m     88\u001b[0m         \u001b[0mwrapper\u001b[0m\u001b[1;33m.\u001b[0m\u001b[0m_original_function\u001b[0m \u001b[1;33m=\u001b[0m \u001b[0mfunc\u001b[0m\u001b[1;33m\u001b[0m\u001b[0m\n\u001b[0;32m     89\u001b[0m         \u001b[1;32mreturn\u001b[0m \u001b[0mwrapper\u001b[0m\u001b[1;33m\u001b[0m\u001b[0m\n",
      "\u001b[1;32mc:\\programdata\\anaconda3\\lib\\site-packages\\keras\\models.py\u001b[0m in \u001b[0;36mfit_generator\u001b[1;34m(self, generator, steps_per_epoch, epochs, verbose, callbacks, validation_data, validation_steps, class_weight, max_queue_size, workers, use_multiprocessing, shuffle, initial_epoch)\u001b[0m\n\u001b[0;32m   1154\u001b[0m                                         \u001b[0muse_multiprocessing\u001b[0m\u001b[1;33m=\u001b[0m\u001b[0muse_multiprocessing\u001b[0m\u001b[1;33m,\u001b[0m\u001b[1;33m\u001b[0m\u001b[0m\n\u001b[0;32m   1155\u001b[0m                                         \u001b[0mshuffle\u001b[0m\u001b[1;33m=\u001b[0m\u001b[0mshuffle\u001b[0m\u001b[1;33m,\u001b[0m\u001b[1;33m\u001b[0m\u001b[0m\n\u001b[1;32m-> 1156\u001b[1;33m                                         initial_epoch=initial_epoch)\n\u001b[0m\u001b[0;32m   1157\u001b[0m \u001b[1;33m\u001b[0m\u001b[0m\n\u001b[0;32m   1158\u001b[0m     \u001b[1;33m@\u001b[0m\u001b[0minterfaces\u001b[0m\u001b[1;33m.\u001b[0m\u001b[0mlegacy_generator_methods_support\u001b[0m\u001b[1;33m\u001b[0m\u001b[0m\n",
      "\u001b[1;32mc:\\programdata\\anaconda3\\lib\\site-packages\\keras\\legacy\\interfaces.py\u001b[0m in \u001b[0;36mwrapper\u001b[1;34m(*args, **kwargs)\u001b[0m\n\u001b[0;32m     85\u001b[0m                 warnings.warn('Update your `' + object_name +\n\u001b[0;32m     86\u001b[0m                               '` call to the Keras 2 API: ' + signature, stacklevel=2)\n\u001b[1;32m---> 87\u001b[1;33m             \u001b[1;32mreturn\u001b[0m \u001b[0mfunc\u001b[0m\u001b[1;33m(\u001b[0m\u001b[1;33m*\u001b[0m\u001b[0margs\u001b[0m\u001b[1;33m,\u001b[0m \u001b[1;33m**\u001b[0m\u001b[0mkwargs\u001b[0m\u001b[1;33m)\u001b[0m\u001b[1;33m\u001b[0m\u001b[0m\n\u001b[0m\u001b[0;32m     88\u001b[0m         \u001b[0mwrapper\u001b[0m\u001b[1;33m.\u001b[0m\u001b[0m_original_function\u001b[0m \u001b[1;33m=\u001b[0m \u001b[0mfunc\u001b[0m\u001b[1;33m\u001b[0m\u001b[0m\n\u001b[0;32m     89\u001b[0m         \u001b[1;32mreturn\u001b[0m \u001b[0mwrapper\u001b[0m\u001b[1;33m\u001b[0m\u001b[0m\n",
      "\u001b[1;32mc:\\programdata\\anaconda3\\lib\\site-packages\\keras\\engine\\training.py\u001b[0m in \u001b[0;36mfit_generator\u001b[1;34m(self, generator, steps_per_epoch, epochs, verbose, callbacks, validation_data, validation_steps, class_weight, max_queue_size, workers, use_multiprocessing, shuffle, initial_epoch)\u001b[0m\n\u001b[0;32m   2044\u001b[0m                 \u001b[0mbatch_index\u001b[0m \u001b[1;33m=\u001b[0m \u001b[1;36m0\u001b[0m\u001b[1;33m\u001b[0m\u001b[0m\n\u001b[0;32m   2045\u001b[0m                 \u001b[1;32mwhile\u001b[0m \u001b[0msteps_done\u001b[0m \u001b[1;33m<\u001b[0m \u001b[0msteps_per_epoch\u001b[0m\u001b[1;33m:\u001b[0m\u001b[1;33m\u001b[0m\u001b[0m\n\u001b[1;32m-> 2046\u001b[1;33m                     \u001b[0mgenerator_output\u001b[0m \u001b[1;33m=\u001b[0m \u001b[0mnext\u001b[0m\u001b[1;33m(\u001b[0m\u001b[0moutput_generator\u001b[0m\u001b[1;33m)\u001b[0m\u001b[1;33m\u001b[0m\u001b[0m\n\u001b[0m\u001b[0;32m   2047\u001b[0m \u001b[1;33m\u001b[0m\u001b[0m\n\u001b[0;32m   2048\u001b[0m                     \u001b[1;32mif\u001b[0m \u001b[1;32mnot\u001b[0m \u001b[0mhasattr\u001b[0m\u001b[1;33m(\u001b[0m\u001b[0mgenerator_output\u001b[0m\u001b[1;33m,\u001b[0m \u001b[1;34m'__len__'\u001b[0m\u001b[1;33m)\u001b[0m\u001b[1;33m:\u001b[0m\u001b[1;33m\u001b[0m\u001b[0m\n",
      "\u001b[1;31mStopIteration\u001b[0m: "
     ]
    }
   ],
   "source": [
    "early_stopping = EarlyStopping(monitor='val_loss', min_delta=0.0, patience=2)\n",
    "checkpointer = ModelCheckpoint(filepath='model-{val_loss:.5f}.h5', verbose=1, save_best_only=True)\n",
    "model.compile(loss='mse', optimizer='adam')\n",
    "fit_loss = model.fit_generator(train_generator, steps_per_epoch=len(train_samples),\n",
    "                    validation_data=validation_generator,\n",
    "                               validation_steps=len(validation_samples),\n",
    "                               nb_epoch=10,callbacks=[early_stopping,checkpointer],verbose=1)\n"
   ]
  },
  {
   "cell_type": "code",
   "execution_count": null,
   "metadata": {},
   "outputs": [],
   "source": [
    "plt.plot(fit_loss.history['loss'])\n",
    "plt.plot(fit_loss.history['val_loss'])\n",
    "plt.title('Mean Squared Error Loss')\n",
    "plt.ylabel('mean squared error')\n",
    "plt.xlabel('epoch')\n",
    "plt.legend(['training set', 'validation set'], loc='upper right')\n",
    "plt.show()"
   ]
  },
  {
   "cell_type": "code",
   "execution_count": null,
   "metadata": {},
   "outputs": [],
   "source": [
    "model.save('model.h5')"
   ]
  },
  {
   "cell_type": "code",
   "execution_count": null,
   "metadata": {},
   "outputs": [],
   "source": []
  }
 ],
 "metadata": {
  "kernelspec": {
   "display_name": "Python 3",
   "language": "python",
   "name": "python3"
  },
  "language_info": {
   "codemirror_mode": {
    "name": "ipython",
    "version": 3
   },
   "file_extension": ".py",
   "mimetype": "text/x-python",
   "name": "python",
   "nbconvert_exporter": "python",
   "pygments_lexer": "ipython3",
   "version": "3.6.3"
  }
 },
 "nbformat": 4,
 "nbformat_minor": 2
}
